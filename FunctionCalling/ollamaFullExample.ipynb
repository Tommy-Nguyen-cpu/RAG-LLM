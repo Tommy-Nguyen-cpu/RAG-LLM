{
 "cells": [
  {
   "cell_type": "code",
   "execution_count": null,
   "metadata": {},
   "outputs": [],
   "source": [
    "from pypdf import PdfReader\n",
    "\n",
    "reader = PdfReader(\"Tommy Nguyen Resume 2 Pages.pdf\")\n",
    "\n",
    "print(len(reader.pages))\n",
    "\n",
    "resulting_text = reader.pages[0].extract_text()\n",
    "\n",
    "# Removing all \"comments\" brought over from Word to PDF when converting. Forgot to remove them beforehand. Preprocessing the text here.\n",
    "resulting_list = resulting_text.split(\"\\n\")\n",
    "for i in range(len(resulting_list)):\n",
    "    index_of_comments = resulting_list[i].lower().find(\"comment\")\n",
    "    if index_of_comments >= 0:\n",
    "        resulting_list[i] = resulting_list[i].replace(resulting_list[i][index_of_comments:-1], \"\")\n",
    "\n",
    "    if \"graduated august 2023...\" in resulting_list[i].lower():\n",
    "        resulting_list[i] = \"\"\n",
    "    if \"undergraduate courses.\" == resulting_list[i].lower().strip():\n",
    "        resulting_list[i] = \"\"\n",
    "\n",
    "processed_text = \"\\n\".join(resulting_list)\n",
    "print(processed_text)"
   ]
  }
 ],
 "metadata": {
  "kernelspec": {
   "display_name": "ragENV",
   "language": "python",
   "name": "python3"
  },
  "language_info": {
   "codemirror_mode": {
    "name": "ipython",
    "version": 3
   },
   "file_extension": ".py",
   "mimetype": "text/x-python",
   "name": "python",
   "nbconvert_exporter": "python",
   "pygments_lexer": "ipython3",
   "version": "3.12.6"
  }
 },
 "nbformat": 4,
 "nbformat_minor": 2
}
