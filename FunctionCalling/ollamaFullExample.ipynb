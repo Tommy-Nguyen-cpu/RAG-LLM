{
 "cells": [
  {
   "cell_type": "markdown",
   "metadata": {},
   "source": [
    "# MarkItDown\n",
    "Wanted to see if we could use MarkItDown to make the resume better fit expected input of LLMs."
   ]
  },
  {
   "cell_type": "code",
   "execution_count": null,
   "metadata": {},
   "outputs": [],
   "source": [
    "from markitdown._markitdown import PdfConverter\n",
    "\n",
    "md = PdfConverter()\n",
    "resume_markdown = md.convert(\"Tommy Nguyen Resume 2 Pages.pdf\", file_extension = \".pdf\")\n",
    "\n",
    "markup_text = resume_markdown.text_content.replace(\"• \", \"\").replace(\"• \\n\", \"\")\n",
    "\n",
    "print(markup_text)"
   ]
  },
  {
   "cell_type": "code",
   "execution_count": null,
   "metadata": {},
   "outputs": [],
   "source": [
    "from pypdf import PdfReader\n",
    "\n",
    "reader = PdfReader(\"Tommy Nguyen Resume 2 Pages.pdf\")\n",
    "\n",
    "print(len(reader.pages))\n",
    "\n",
    "final_resume_text = \"\"\n",
    "\n",
    "for page_num in range(len(reader.pages)):\n",
    "    resulting_text = reader.pages[page_num].extract_text()\n",
    "\n",
    "    # Removing all \"comments\" brought over from Word to PDF when converting. Forgot to remove them beforehand. Preprocessing the text here.\n",
    "    resulting_list = resulting_text.split(\"\\n\")\n",
    "    for i in range(len(resulting_list)):\n",
    "        index_of_comments = resulting_list[i].lower().find(\"comment\")\n",
    "        if index_of_comments >= 0:\n",
    "            resulting_list[i] = resulting_list[i].replace(resulting_list[i][index_of_comments:-1], \"\")\n",
    "\n",
    "        string_check = resulting_list[i].lower().strip()\n",
    "        if \"graduated august 2023...\" in string_check or \"undergraduate courses.\"  == string_check or \"https://www.indeed.com/career -advice/resumes\"  in string_check or \"how did you mentor them?\"  in string_check or \"letters/how -to-list-publications -on-resume\" in string_check or \"another subsection as personal.\" == string_check:\n",
    "            resulting_list[i] = None\n",
    "    \n",
    "    # TODO: There's still a ton of whitespaces between some parts, most likely due to page breaks.\n",
    "    processed_text = \"\\n\".join([item for item in resulting_list if item is not None ])\n",
    "\n",
    "    if final_resume_text != \"\":\n",
    "        final_resume_text += \"\\n\\n\" + processed_text\n",
    "    else:\n",
    "        final_resume_text += processed_text\n",
    "    # print(f\"Page {page_num}:\\n{processed_text}\")\n",
    "\n",
    "print(f\"Final extracted text:\\n{final_resume_text}\")"
   ]
  },
  {
   "cell_type": "markdown",
   "metadata": {},
   "source": [
    "# Scraping For Job Postings"
   ]
  },
  {
   "cell_type": "code",
   "execution_count": 1,
   "metadata": {},
   "outputs": [
    {
     "name": "stdout",
     "output_type": "stream",
     "text": [
      "0\n",
      "0\n",
      "10\n",
      "0\n",
      "10\n",
      "[{'company': None, 'job-title': None, 'level': None}, {'company': None, 'job-title': None, 'level': None}, {'company': None, 'job-title': None, 'level': None}, {'company': 'SynergisticIT', 'job-title': 'Remote Software Developer (Junior)', 'level': 'Entry level'}, {'company': 'SynergisticIT', 'job-title': 'Junior Level Software Engineer (REMOTE)', 'level': 'Entry level'}, {'company': None, 'job-title': None, 'level': None}, {'company': None, 'job-title': None, 'level': None}, {'company': None, 'job-title': None, 'level': None}, {'company': None, 'job-title': None, 'level': None}, {'company': 'SynergisticIT', 'job-title': 'Backend Developer(Entry Level)', 'level': 'Entry level'}, {'company': None, 'job-title': None, 'level': None}, {'company': None, 'job-title': None, 'level': None}, {'company': 'SynergisticIT', 'job-title': 'Junior Level Software Engineer (REMOTE)', 'level': 'Entry level'}, {'company': None, 'job-title': None, 'level': None}, {'company': None, 'job-title': None, 'level': None}, {'company': None, 'job-title': None, 'level': None}, {'company': None, 'job-title': None, 'level': None}, {'company': None, 'job-title': None, 'level': None}, {'company': None, 'job-title': None, 'level': None}, {'company': 'SynergisticIT', 'job-title': 'Junior Software Engineer', 'level': 'Entry level'}]\n"
     ]
    }
   ],
   "source": [
    "import requests\n",
    "from bs4 import BeautifulSoup\n",
    "import math\n",
    "import pandas as pd\n",
    "l=[]\n",
    "o={}\n",
    "k=[]\n",
    "headers={\"User-Agent\":\"Mozilla/5.0 (Windows NT 10.0; Win64; x64) AppleWebKit/537.36 (KHTML, like Gecko) Chrome/107.0.0.0 Safari/537.36\"}\n",
    "target_url='https://www.linkedin.com/jobs-guest/jobs/api/seeMoreJobPostings/search?keywords=Python%20%28Programming%20Language%29&location=Las%20Vegas%2C%20Nevada%2C%20United%20States&geoId=100293800&currentJobId=3415227738&start={}'\n",
    "for i in range(0,math.ceil(117/25)):\n",
    "\n",
    "    res = requests.get(target_url.format(i))\n",
    "    soup=BeautifulSoup(res.text,'html.parser')\n",
    "    alljobs_on_this_page=soup.find_all(\"li\")\n",
    "    print(len(alljobs_on_this_page))\n",
    "    for x in range(0,len(alljobs_on_this_page)):\n",
    "        jobid = alljobs_on_this_page[x].find(\"div\",{\"class\":\"base-card\"}).get('data-entity-urn').split(\":\")[3]\n",
    "        l.append(jobid)\n",
    "\n",
    "target_url='https://www.linkedin.com/jobs-guest/jobs/api/jobPosting/{}'\n",
    "for j in range(0,len(l)):\n",
    "\n",
    "    resp = requests.get(target_url.format(l[j]))\n",
    "    soup=BeautifulSoup(resp.text,'html.parser')\n",
    "\n",
    "    try:\n",
    "        o[\"company\"]=soup.find(\"div\",{\"class\":\"top-card-layout__card\"}).find(\"a\").find(\"img\").get('alt')\n",
    "    except:\n",
    "        o[\"company\"]=None\n",
    "\n",
    "    try:\n",
    "        o[\"job-title\"]=soup.find(\"div\",{\"class\":\"top-card-layout__entity-info\"}).find(\"a\").text.strip()\n",
    "    except:\n",
    "        o[\"job-title\"]=None\n",
    "\n",
    "    try:\n",
    "        o[\"level\"]=soup.find(\"ul\",{\"class\":\"description__job-criteria-list\"}).find(\"li\").text.replace(\"Seniority level\",\"\").strip()\n",
    "    except:\n",
    "        o[\"level\"]=None\n",
    "\n",
    "\n",
    "\n",
    "    k.append(o)\n",
    "    o={}\n",
    "\n",
    "df = pd.DataFrame(k)\n",
    "df.to_csv('linkedinjobs.csv', index=False, encoding='utf-8')\n",
    "print(k)"
   ]
  }
 ],
 "metadata": {
  "kernelspec": {
   "display_name": "ragENV",
   "language": "python",
   "name": "python3"
  },
  "language_info": {
   "codemirror_mode": {
    "name": "ipython",
    "version": 3
   },
   "file_extension": ".py",
   "mimetype": "text/x-python",
   "name": "python",
   "nbconvert_exporter": "python",
   "pygments_lexer": "ipython3",
   "version": "3.12.6"
  }
 },
 "nbformat": 4,
 "nbformat_minor": 2
}
