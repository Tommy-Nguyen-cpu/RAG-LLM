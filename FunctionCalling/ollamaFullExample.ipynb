{
 "cells": [
  {
   "cell_type": "code",
   "execution_count": null,
   "metadata": {},
   "outputs": [],
   "source": [
    "from pypdf import PdfReader\n",
    "\n",
    "reader = PdfReader(\"Tommy Nguyen Resume 2 Pages.pdf\")\n",
    "\n",
    "print(len(reader.pages))\n",
    "\n",
    "final_resume_text = \"\"\n",
    "\n",
    "for page_num in range(len(reader.pages)):\n",
    "    resulting_text = reader.pages[page_num].extract_text()\n",
    "\n",
    "    # Removing all \"comments\" brought over from Word to PDF when converting. Forgot to remove them beforehand. Preprocessing the text here.\n",
    "    resulting_list = resulting_text.split(\"\\n\")\n",
    "    for i in range(len(resulting_list)):\n",
    "        index_of_comments = resulting_list[i].lower().find(\"comment\")\n",
    "        if index_of_comments >= 0:\n",
    "            resulting_list[i] = resulting_list[i].replace(resulting_list[i][index_of_comments:-1], \"\")\n",
    "\n",
    "        string_check = resulting_list[i].lower().strip()\n",
    "        if \"graduated august 2023...\" in string_check or \"undergraduate courses.\"  == string_check or \"https://www.indeed.com/career -advice/resumes\"  in string_check or \"how did you mentor them?\"  in string_check or \"letters/how -to-list-publications -on-resume\" in string_check or \"another subsection as personal.\" == string_check:\n",
    "            resulting_list[i] = None\n",
    "    \n",
    "    # TODO: There's still a ton of whitespaces between some parts, most likely due to page breaks.\n",
    "    processed_text = \"\\n\".join([item for item in resulting_list if item is not None ])\n",
    "\n",
    "    if final_resume_text != \"\":\n",
    "        final_resume_text += \"\\n\\n\" + processed_text\n",
    "    else:\n",
    "        final_resume_text += processed_text\n",
    "    # print(f\"Page {page_num}:\\n{processed_text}\")\n",
    "\n",
    "print(f\"Final extracted text:\\n{final_resume_text}\")"
   ]
  }
 ],
 "metadata": {
  "kernelspec": {
   "display_name": "ragENV",
   "language": "python",
   "name": "python3"
  },
  "language_info": {
   "codemirror_mode": {
    "name": "ipython",
    "version": 3
   },
   "file_extension": ".py",
   "mimetype": "text/x-python",
   "name": "python",
   "nbconvert_exporter": "python",
   "pygments_lexer": "ipython3",
   "version": "3.12.6"
  }
 },
 "nbformat": 4,
 "nbformat_minor": 2
}
