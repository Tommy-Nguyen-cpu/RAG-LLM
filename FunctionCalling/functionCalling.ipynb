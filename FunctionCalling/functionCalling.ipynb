{
 "cells": [
  {
   "cell_type": "code",
   "execution_count": null,
   "metadata": {},
   "outputs": [],
   "source": [
    "from ollama import Client\n",
    "from pydantic import BaseModel\n",
    "\n",
    "class ExampleOutputClass(BaseModel):\n",
    "    response : str\n",
    "    evidences : list[str]\n",
    "\n",
    "\n",
    "def multiply(a : int, b : int):\n",
    "    \"\"\"\n",
    "    Multiples two numbers together.\n",
    "\n",
    "    Args:\n",
    "        a: First number.\n",
    "        b: Second number.\n",
    "    \n",
    "    Returns:\n",
    "        The result of multiplying a and b.\n",
    "    \"\"\"\n",
    "\n",
    "    return a * b\n",
    "\n",
    "client = Client()\n",
    "\n",
    "available_function = {\"multiply\" : multiply}\n",
    "\n",
    "response = client.chat(\n",
    "    model=\"llama3.2:latest\", \n",
    "    messages=[{\"role\": \"user\", \"content\": \"What is five times 3? Your response MUST be in JSON format.\"}],\n",
    "    tools = [multiply],\n",
    "    format = ExampleOutputClass.model_json_schema(),\n",
    "    options = {\"temperature\" : \"0\"}\n",
    ")\n",
    "\n",
    "print(response[\"message\"][\"content\"])\n",
    "\n",
    "pythonic_output = ExampleOutputClass.model_validate_json(response[\"message\"][\"content\"])\n",
    "print(pythonic_output)\n",
    "\n",
    "for tool in response.message.tool_calls or []:\n",
    "    function_to_call = available_function.get(tool.function.name)\n",
    "    if function_to_call:\n",
    "        print(f\"Result: {function_to_call(**tool.function.arguments)}\")"
   ]
  },
  {
   "cell_type": "markdown",
   "metadata": {},
   "source": [
    "# Huggingface Function Calling"
   ]
  },
  {
   "cell_type": "code",
   "execution_count": null,
   "metadata": {},
   "outputs": [],
   "source": []
  }
 ],
 "metadata": {
  "kernelspec": {
   "display_name": "ragENV",
   "language": "python",
   "name": "python3"
  },
  "language_info": {
   "codemirror_mode": {
    "name": "ipython",
    "version": 3
   },
   "file_extension": ".py",
   "mimetype": "text/x-python",
   "name": "python",
   "nbconvert_exporter": "python",
   "pygments_lexer": "ipython3",
   "version": "3.12.6"
  }
 },
 "nbformat": 4,
 "nbformat_minor": 2
}
