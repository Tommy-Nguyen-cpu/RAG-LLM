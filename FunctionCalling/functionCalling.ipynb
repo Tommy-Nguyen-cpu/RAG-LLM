{
 "cells": [
  {
   "cell_type": "code",
   "execution_count": null,
   "metadata": {},
   "outputs": [],
   "source": [
    "from ollama import Client\n",
    "from pydantic import BaseModel\n",
    "\n",
    "class ExampleOutputClass(BaseModel):\n",
    "    response : str\n",
    "    evidences : list[str]\n",
    "\n",
    "def add_two_numbers(a: int, b: int) -> int:\n",
    "  \"\"\"\n",
    "  Add two numbers\n",
    "\n",
    "  Args:\n",
    "    a: The first integer number\n",
    "    b: The second integer number\n",
    "\n",
    "  Returns:\n",
    "    int: The sum of the two numbers\n",
    "  \"\"\"\n",
    "  return a + b\n",
    "\n",
    "import ollama\n",
    "\n",
    "response = ollama.chat(\n",
    "  'llama3.1',\n",
    "  messages=[{'role': 'user', 'content': 'What is 10 + 10?'}],\n",
    "  tools=[add_two_numbers], # Actual function reference\n",
    ")"
   ]
  },
  {
   "cell_type": "markdown",
   "metadata": {},
   "source": [
    "# Huggingface Function Calling"
   ]
  },
  {
   "cell_type": "code",
   "execution_count": 1,
   "metadata": {},
   "outputs": [
    {
     "name": "stderr",
     "output_type": "stream",
     "text": [
      "c:\\Users\\nguyent68\\Documents\\GitHub\\RAG-LLM\\ragENV\\Lib\\site-packages\\tqdm\\auto.py:21: TqdmWarning: IProgress not found. Please update jupyter and ipywidgets. See https://ipywidgets.readthedocs.io/en/stable/user_install.html\n",
      "  from .autonotebook import tqdm as notebook_tqdm\n",
      "Downloading shards: 100%|██████████| 4/4 [14:04<00:00, 211.04s/it]\n",
      "Loading checkpoint shards: 100%|██████████| 4/4 [00:13<00:00,  3.41s/it]\n",
      "Some parameters are on the meta device because they were offloaded to the disk and cpu.\n"
     ]
    }
   ],
   "source": [
    "from transformers import AutoTokenizer, AutoModelForCausalLM\n",
    "\n",
    "# from huggingface_hub import login\n",
    "# login(token = \"\")\n",
    "\n",
    "def divide(a : float, b : float):\n",
    "    \"\"\"\n",
    "    Divides two numbers.\n",
    "\n",
    "    Args:\n",
    "        a: First number.\n",
    "        b: Second number.\n",
    "    \"\"\"\n",
    "    return a // b\n",
    "\n",
    "tools = [divide]\n",
    "\n",
    "model_name = \"NousResearch/Hermes-2-Pro-Llama-3-8B\"  # Replace with the appropriate Llama model name\n",
    "tokenizer = AutoTokenizer.from_pretrained(model_name)\n",
    "model = AutoModelForCausalLM.from_pretrained(model_name, device_map=\"auto\")"
   ]
  },
  {
   "cell_type": "code",
   "execution_count": 2,
   "metadata": {},
   "outputs": [
    {
     "name": "stderr",
     "output_type": "stream",
     "text": [
      "Setting `pad_token_id` to `eos_token_id`:None for open-end generation.\n",
      "Starting from v4.46, the `logits` model output will have the same type as the model (except at train time, where it will always be FP32)\n"
     ]
    },
    {
     "name": "stdout",
     "output_type": "stream",
     "text": [
      "<tool_call>\n",
      "{\"name\": \"get_current_temperature\", \"arguments\": {\"location\": \"Boston, USA\"}}\n",
      "</tool_call><|im_end|>\n"
     ]
    }
   ],
   "source": [
    "def get_current_temperature(location: str):\n",
    "    \"\"\"\n",
    "    Gets the temperature at a given location.\n",
    "\n",
    "    Args:\n",
    "        location: The location to get the temperature for, in the format \"city, country\"\n",
    "    \"\"\"\n",
    "    return 22.0  # bug: Sometimes the temperature is not 22. low priority to fix tho\n",
    "\n",
    "tools.append(get_current_temperature)\n",
    "\n",
    "prompt = \"\"\"What is the current weather in Boston?\"\"\"\n",
    "\n",
    "content = [{\"role\" : \"user\", \"content\" : prompt}]\n",
    "\n",
    "\n",
    "tool_prompts = tokenizer.apply_chat_template(content, tools=tools, return_tensors=\"pt\", return_dict=True, add_generation_prompt=True).to(model.device)\n",
    "outputs = model.generate(**tool_prompts, max_new_tokens=250)\n",
    "\n",
    "# Decode the generated text\n",
    "response = tokenizer.decode( outputs[0, tool_prompts['input_ids'].shape[1]:])\n",
    "print(response)"
   ]
  }
 ],
 "metadata": {
  "kernelspec": {
   "display_name": "ragENV",
   "language": "python",
   "name": "python3"
  },
  "language_info": {
   "codemirror_mode": {
    "name": "ipython",
    "version": 3
   },
   "file_extension": ".py",
   "mimetype": "text/x-python",
   "name": "python",
   "nbconvert_exporter": "python",
   "pygments_lexer": "ipython3",
   "version": "3.12.6"
  }
 },
 "nbformat": 4,
 "nbformat_minor": 2
}
