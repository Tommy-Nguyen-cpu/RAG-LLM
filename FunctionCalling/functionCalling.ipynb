{
 "cells": [
  {
   "cell_type": "code",
   "execution_count": null,
   "metadata": {},
   "outputs": [],
   "source": [
    "from ollama import Client\n",
    "from pydantic import BaseModel\n",
    "\n",
    "class ExampleOutputClass(BaseModel):\n",
    "    response : str\n",
    "    evidences : list[str]\n",
    "\n",
    "\n",
    "def multiply(a : int, b : int):\n",
    "    \"\"\"\n",
    "    Multiples two numbers together.\n",
    "\n",
    "    Args:\n",
    "        a: First number.\n",
    "        b: Second number.\n",
    "    \n",
    "    Returns:\n",
    "        The result of multiplying a and b.\n",
    "    \"\"\"\n",
    "\n",
    "    return a * b\n",
    "\n",
    "client = Client()\n",
    "\n",
    "available_function = {\"multiply\" : multiply}\n",
    "\n",
    "response = client.chat(\n",
    "    model=\"llama3.2:latest\", \n",
    "    messages=[{\"role\": \"user\", \"content\": \"What is five times 3? Your response MUST be in JSON format.\"}],\n",
    "    tools = [multiply],\n",
    "    format = ExampleOutputClass.model_json_schema(),\n",
    "    options = {\"temperature\" : \"0\"}\n",
    ")\n",
    "\n",
    "print(response[\"message\"][\"content\"])\n",
    "\n",
    "pythonic_output = ExampleOutputClass.model_validate_json(response[\"message\"][\"content\"])\n",
    "print(pythonic_output)\n",
    "\n",
    "for tool in response.message.tool_calls or []:\n",
    "    function_to_call = available_function.get(tool.function.name)\n",
    "    if function_to_call:\n",
    "        print(f\"Result: {function_to_call(**tool.function.arguments)}\")"
   ]
  },
  {
   "cell_type": "markdown",
   "metadata": {},
   "source": [
    "# Huggingface Function Calling"
   ]
  },
  {
   "cell_type": "code",
   "execution_count": null,
   "metadata": {},
   "outputs": [],
   "source": [
    "from transformers import AutoTokenizer, AutoModelForCausalLM\n",
    "\n",
    "# from huggingface_hub import login\n",
    "# login(token = \"\")\n",
    "\n",
    "def divide(a : float, b : float):\n",
    "    \"\"\"\n",
    "    Gets result of dividing two numbers.\n",
    "\n",
    "    Args:\n",
    "        a: First number.\n",
    "        b: Second number.\n",
    "    \"\"\"\n",
    "    return a // b\n",
    "\n",
    "tools = [divide]\n",
    "\n",
    "model_name = \"NousResearch/Hermes-2-Pro-Llama-3-8B\"  # Replace with the appropriate Llama model name\n",
    "tokenizer = AutoTokenizer.from_pretrained(model_name)\n",
    "model = AutoModelForCausalLM.from_pretrained(model_name, device_map=\"auto\")\n",
    "\n",
    "prompt = \"\"\"What is five divided by four?\"\"\"\n",
    "\n",
    "content = [{\"roler\" : \"user\", \"content\" : prompt}]\n",
    "\n",
    "\n",
    "tool_prompts = tokenizer.apply_chat_template(content, tools=tools, return_tensors=\"pt\", return_dict=True, add_generation_prompt=True).to(model.device)\n",
    "outputs = model.generate(**tool_prompts, max_length=250)\n",
    "\n",
    "# Decode the generated text\n",
    "response = tokenizer.decode(outputs[0], skip_special_tokens=True)\n",
    "print(response)"
   ]
  }
 ],
 "metadata": {
  "kernelspec": {
   "display_name": "ragENV",
   "language": "python",
   "name": "python3"
  },
  "language_info": {
   "codemirror_mode": {
    "name": "ipython",
    "version": 3
   },
   "file_extension": ".py",
   "mimetype": "text/x-python",
   "name": "python",
   "nbconvert_exporter": "python",
   "pygments_lexer": "ipython3",
   "version": "3.12.6"
  }
 },
 "nbformat": 4,
 "nbformat_minor": 2
}
