{
 "cells": [
  {
   "cell_type": "code",
   "execution_count": null,
   "metadata": {},
   "outputs": [],
   "source": [
    "from ollama import Client\n",
    "\n",
    "def multiply(a : int, b : int):\n",
    "    \"\"\"\n",
    "    Multiples two numbers together.\n",
    "\n",
    "    Args:\n",
    "        a: First number.\n",
    "        b: Second number.\n",
    "    \n",
    "    Returns:\n",
    "        The result of multiplying a and b.\n",
    "    \"\"\"\n",
    "\n",
    "    return a * b\n",
    "\n",
    "client = Client()\n",
    "\n",
    "available_function = {\"multiply\" : multiply}\n",
    "\n",
    "response = client.chat(\n",
    "    model=\"mistral:latest\", \n",
    "    messages=[{\"role\": \"user\", \"content\": \"What is five times 3?\"}],\n",
    "    tools = [multiply]\n",
    ")\n",
    "\n",
    "print(response[\"message\"][\"content\"])\n",
    "\n",
    "for tool in response.message.tool_calls or []:\n",
    "    function_to_call = available_function.get(tool.function.name)\n",
    "    if function_to_call:\n",
    "        print(f\"Result: {function_to_call(**tool.function.arguments)}\")"
   ]
  }
 ],
 "metadata": {
  "kernelspec": {
   "display_name": "Python 3",
   "language": "python",
   "name": "python3"
  },
  "language_info": {
   "name": "python",
   "version": "3.12.6"
  }
 },
 "nbformat": 4,
 "nbformat_minor": 2
}
